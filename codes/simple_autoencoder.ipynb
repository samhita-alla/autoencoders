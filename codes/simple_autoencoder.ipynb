{
 "cells": [
  {
   "cell_type": "code",
   "execution_count": 1,
   "metadata": {},
   "outputs": [],
   "source": [
    "# import the libraries\n",
    "from tensorflow.keras.layers import Input, Dense\n",
    "from tensorflow.keras.models import Model\n",
    "from tensorflow.keras.datasets import mnist\n",
    "import numpy as np"
   ]
  },
  {
   "cell_type": "code",
   "execution_count": 2,
   "metadata": {},
   "outputs": [],
   "source": [
    "# size of the encoded representation, i.e. of the hidden layer\n",
    "encoding_dim = 32\n",
    "# MNIST image size - 28x28\n",
    "input_img = Input(shape=(784,))\n",
    "# encoding layer\n",
    "encoded = Dense(encoding_dim, activation='relu')(input_img)\n",
    "# decoding layer\n",
    "decoded = Dense(784, activation='sigmoid')(encoded)\n",
    "\n",
    "# The model\n",
    "autoencoder = Model(input_img, decoded)"
   ]
  },
  {
   "cell_type": "code",
   "execution_count": 3,
   "metadata": {},
   "outputs": [],
   "source": [
    "# Encoder model \n",
    "encoder = Model(input_img, encoded)"
   ]
  },
  {
   "cell_type": "code",
   "execution_count": 4,
   "metadata": {},
   "outputs": [],
   "source": [
    "# Decoder model\n",
    "encoded_input = Input(shape=(encoding_dim,))\n",
    "decoder = Model(encoded_input, autoencoder.layers[-1](encoded_input))"
   ]
  },
  {
   "cell_type": "code",
   "execution_count": 5,
   "metadata": {},
   "outputs": [],
   "source": [
    "autoencoder.compile(optimizer = 'adadelta', loss = 'binary_crossentropy')"
   ]
  },
  {
   "cell_type": "code",
   "execution_count": 6,
   "metadata": {},
   "outputs": [],
   "source": [
    "# labels aren't requried \n",
    "(x_train,_), (x_test,_) = mnist.load_data()"
   ]
  },
  {
   "cell_type": "code",
   "execution_count": 7,
   "metadata": {},
   "outputs": [
    {
     "name": "stdout",
     "output_type": "stream",
     "text": [
      "(60000, 28, 28)\n",
      "(10000, 28, 28)\n"
     ]
    }
   ],
   "source": [
    "x_train = x_train.astype('float32')/255\n",
    "x_test = x_test.astype('float32')/255\n",
    "print(x_train.shape)\n",
    "print(x_test.shape)"
   ]
  },
  {
   "cell_type": "code",
   "execution_count": 8,
   "metadata": {},
   "outputs": [
    {
     "name": "stdout",
     "output_type": "stream",
     "text": [
      "(60000, 784)\n",
      "(10000, 784)\n"
     ]
    }
   ],
   "source": [
    "x_train = np.reshape(x_train, (60000, 784))\n",
    "x_test = np.reshape(x_test, (10000, 784))\n",
    "print(x_train.shape)\n",
    "print(x_test.shape)"
   ]
  },
  {
   "cell_type": "code",
   "execution_count": 9,
   "metadata": {},
   "outputs": [
    {
     "name": "stdout",
     "output_type": "stream",
     "text": [
      "Epoch 1/50\n",
      "60000/60000 [==============================] - 3s 52us/step - loss: 0.3557\n",
      "Epoch 2/50\n",
      "60000/60000 [==============================] - 3s 49us/step - loss: 0.2618\n",
      "Epoch 3/50\n",
      "60000/60000 [==============================] - 3s 45us/step - loss: 0.2401\n",
      "Epoch 4/50\n",
      "60000/60000 [==============================] - 3s 45us/step - loss: 0.2198\n",
      "Epoch 5/50\n",
      "60000/60000 [==============================] - 3s 44us/step - loss: 0.2052\n",
      "Epoch 6/50\n",
      "60000/60000 [==============================] - 2s 38us/step - loss: 0.1951\n",
      "Epoch 7/50\n",
      "60000/60000 [==============================] - 2s 38us/step - loss: 0.1875\n",
      "Epoch 8/50\n",
      "60000/60000 [==============================] - 2s 39us/step - loss: 0.1808\n",
      "Epoch 9/50\n",
      "60000/60000 [==============================] - 2s 38us/step - loss: 0.1748\n",
      "Epoch 10/50\n",
      "60000/60000 [==============================] - 2s 39us/step - loss: 0.1693\n",
      "Epoch 11/50\n",
      "60000/60000 [==============================] - 2s 39us/step - loss: 0.1645\n",
      "Epoch 12/50\n",
      "60000/60000 [==============================] - 2s 38us/step - loss: 0.1602\n",
      "Epoch 13/50\n",
      "60000/60000 [==============================] - 2s 38us/step - loss: 0.1563\n",
      "Epoch 14/50\n",
      "60000/60000 [==============================] - 2s 39us/step - loss: 0.1528\n",
      "Epoch 15/50\n",
      "60000/60000 [==============================] - 2s 38us/step - loss: 0.1494\n",
      "Epoch 16/50\n",
      "60000/60000 [==============================] - 2s 38us/step - loss: 0.1463\n",
      "Epoch 17/50\n",
      "60000/60000 [==============================] - 2s 37us/step - loss: 0.1435\n",
      "Epoch 18/50\n",
      "60000/60000 [==============================] - 2s 39us/step - loss: 0.1408\n",
      "Epoch 19/50\n",
      "60000/60000 [==============================] - 2s 39us/step - loss: 0.1383\n",
      "Epoch 20/50\n",
      "60000/60000 [==============================] - 2s 39us/step - loss: 0.1359\n",
      "Epoch 21/50\n",
      "60000/60000 [==============================] - 2s 38us/step - loss: 0.1337\n",
      "Epoch 22/50\n",
      "60000/60000 [==============================] - 2s 39us/step - loss: 0.1316\n",
      "Epoch 23/50\n",
      "60000/60000 [==============================] - 2s 39us/step - loss: 0.1296\n",
      "Epoch 24/50\n",
      "60000/60000 [==============================] - 2s 38us/step - loss: 0.1277\n",
      "Epoch 25/50\n",
      "60000/60000 [==============================] - 2s 39us/step - loss: 0.1259\n",
      "Epoch 26/50\n",
      "60000/60000 [==============================] - 2s 39us/step - loss: 0.1242\n",
      "Epoch 27/50\n",
      "60000/60000 [==============================] - 2s 39us/step - loss: 0.1225\n",
      "Epoch 28/50\n",
      "60000/60000 [==============================] - 2s 40us/step - loss: 0.1210\n",
      "Epoch 29/50\n",
      "60000/60000 [==============================] - 2s 39us/step - loss: 0.1196\n",
      "Epoch 30/50\n",
      "60000/60000 [==============================] - 2s 41us/step - loss: 0.1182\n",
      "Epoch 31/50\n",
      "60000/60000 [==============================] - 3s 45us/step - loss: 0.1170\n",
      "Epoch 32/50\n",
      "60000/60000 [==============================] - 2s 41us/step - loss: 0.1158\n",
      "Epoch 33/50\n",
      "60000/60000 [==============================] - 3s 44us/step - loss: 0.1147\n",
      "Epoch 34/50\n",
      "60000/60000 [==============================] - 3s 42us/step - loss: 0.1137\n",
      "Epoch 35/50\n",
      "60000/60000 [==============================] - 3s 46us/step - loss: 0.1128\n",
      "Epoch 36/50\n",
      "60000/60000 [==============================] - 3s 42us/step - loss: 0.1119\n",
      "Epoch 37/50\n",
      "60000/60000 [==============================] - 3s 48us/step - loss: 0.1112\n",
      "Epoch 38/50\n",
      "60000/60000 [==============================] - 2s 39us/step - loss: 0.1104\n",
      "Epoch 39/50\n",
      "60000/60000 [==============================] - 2s 39us/step - loss: 0.1098\n",
      "Epoch 40/50\n",
      "60000/60000 [==============================] - 3s 44us/step - loss: 0.1091\n",
      "Epoch 41/50\n",
      "60000/60000 [==============================] - 3s 50us/step - loss: 0.1086\n",
      "Epoch 42/50\n",
      "60000/60000 [==============================] - 3s 42us/step - loss: 0.1080\n",
      "Epoch 43/50\n",
      "60000/60000 [==============================] - 2s 40us/step - loss: 0.1076\n",
      "Epoch 44/50\n",
      "60000/60000 [==============================] - 3s 43us/step - loss: 0.1071\n",
      "Epoch 45/50\n",
      "60000/60000 [==============================] - 2s 41us/step - loss: 0.1067\n",
      "Epoch 46/50\n",
      "60000/60000 [==============================] - 2s 41us/step - loss: 0.1063\n",
      "Epoch 47/50\n",
      "60000/60000 [==============================] - 3s 43us/step - loss: 0.1059\n",
      "Epoch 48/50\n",
      "60000/60000 [==============================] - 2s 40us/step - loss: 0.1056\n",
      "Epoch 49/50\n",
      "60000/60000 [==============================] - 3s 48us/step - loss: 0.1052\n",
      "Epoch 50/50\n",
      "60000/60000 [==============================] - 3s 53us/step - loss: 0.1049\n"
     ]
    },
    {
     "data": {
      "text/plain": [
       "<tensorflow.python.keras.callbacks.History at 0x12182e358>"
      ]
     },
     "execution_count": 9,
     "metadata": {},
     "output_type": "execute_result"
    }
   ],
   "source": [
    "autoencoder.fit(x_train, x_train, epochs = 50, batch_size = 256, shuffle = True)"
   ]
  },
  {
   "cell_type": "code",
   "execution_count": 10,
   "metadata": {},
   "outputs": [],
   "source": [
    "encoded_imgs = encoder.predict(x_test)\n",
    "decoded_imgs = decoder.predict(encoded_imgs)"
   ]
  },
  {
   "cell_type": "code",
   "execution_count": 12,
   "metadata": {},
   "outputs": [
    {
     "data": {
      "image/png": "[encoded data removed]",
      "text/plain": [
       "<Figure size 1440x288 with 20 Axes>"
      ]
     },
     "metadata": {},
     "output_type": "display_data"
    }
   ],
   "source": [
    "import matplotlib.pyplot as plt\n",
    "n = 10\n",
    "plt.figure(figsize=(20, 4))\n",
    "for i in range(n):\n",
    "    # input images\n",
    "    ax = plt.subplot(2, n, i+1)\n",
    "    plt.imshow(x_test[i].reshape(28, 28))\n",
    "    plt.gray()\n",
    "    # reconstructed images\n",
    "    ax = plt.subplot(2, n, i+1+n)\n",
    "    plt.imshow(decoded_imgs[i].reshape(28,28))\n",
    "    plt.gray()\n",
    "    \n",
    "plt.show()"
   ]
  },
  {
   "cell_type": "code",
   "execution_count": null,
   "metadata": {},
   "outputs": [],
   "source": []
  }
 ],
 "metadata": {
  "kernelspec": {
   "display_name": "Python 3",
   "language": "python",
   "name": "python3"
  },
  "language_info": {
   "codemirror_mode": {
    "name": "ipython",
    "version": 3
   },
   "file_extension": ".py",
   "mimetype": "text/x-python",
   "name": "python",
   "nbconvert_exporter": "python",
   "pygments_lexer": "ipython3",
   "version": "3.6.5"
  }
 },
 "nbformat": 4,
 "nbformat_minor": 2
}
