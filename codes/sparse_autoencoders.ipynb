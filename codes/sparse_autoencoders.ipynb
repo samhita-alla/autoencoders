{
 "cells": [
  {
   "cell_type": "code",
   "execution_count": 1,
   "metadata": {},
   "outputs": [],
   "source": [
    "# import the libraries\n",
    "from tensorflow.keras.layers import Input, Dense\n",
    "from tensorflow.keras.models import Model\n",
    "from tensorflow.keras.datasets import mnist\n",
    "from tensorflow.keras import regularizers\n",
    "import numpy as np"
   ]
  },
  {
   "cell_type": "code",
   "execution_count": 2,
   "metadata": {},
   "outputs": [],
   "source": [
    "# size of the encoded representation, i.e. of the hidden layer\n",
    "encoding_dim = 64\n",
    "# MNIST image size - 28x28\n",
    "input_img = Input(shape=(784,))\n",
    "# encoding layer, l1 regularization is used, so only few units fire at a given time\n",
    "encoded = Dense(encoding_dim, activation='relu', activity_regularizer=regularizers.l1(10e-20))(input_img)\n",
    "# decoding layer\n",
    "decoded = Dense(784, activation='sigmoid')(encoded)\n",
    "\n",
    "# The model\n",
    "autoencoder = Model(input_img, decoded)"
   ]
  },
  {
   "cell_type": "code",
   "execution_count": 3,
   "metadata": {},
   "outputs": [],
   "source": [
    "# Encoder model \n",
    "encoder = Model(input_img, encoded)"
   ]
  },
  {
   "cell_type": "code",
   "execution_count": 4,
   "metadata": {},
   "outputs": [],
   "source": [
    "# Decoder model\n",
    "encoded_input = Input(shape=(encoding_dim,))\n",
    "decoder = Model(encoded_input, autoencoder.layers[-1](encoded_input))"
   ]
  },
  {
   "cell_type": "code",
   "execution_count": 5,
   "metadata": {},
   "outputs": [],
   "source": [
    "autoencoder.compile(optimizer = 'adadelta', loss = 'binary_crossentropy')"
   ]
  },
  {
   "cell_type": "code",
   "execution_count": 6,
   "metadata": {},
   "outputs": [],
   "source": [
    "# labels aren't requried \n",
    "(x_train,_), (x_test,_) = mnist.load_data()"
   ]
  },
  {
   "cell_type": "code",
   "execution_count": 7,
   "metadata": {},
   "outputs": [
    {
     "name": "stdout",
     "output_type": "stream",
     "text": [
      "(60000, 28, 28)\n",
      "(10000, 28, 28)\n"
     ]
    }
   ],
   "source": [
    "x_train = x_train.astype('float32')/255\n",
    "x_test = x_test.astype('float32')/255\n",
    "print(x_train.shape)\n",
    "print(x_test.shape)"
   ]
  },
  {
   "cell_type": "code",
   "execution_count": 8,
   "metadata": {},
   "outputs": [
    {
     "name": "stdout",
     "output_type": "stream",
     "text": [
      "(60000, 784)\n",
      "(10000, 784)\n"
     ]
    }
   ],
   "source": [
    "x_train = np.reshape(x_train, (60000, 784))\n",
    "x_test = np.reshape(x_test, (10000, 784))\n",
    "print(x_train.shape)\n",
    "print(x_test.shape)"
   ]
  },
  {
   "cell_type": "code",
   "execution_count": 9,
   "metadata": {},
   "outputs": [
    {
     "name": "stdout",
     "output_type": "stream",
     "text": [
      "Epoch 1/100\n",
      "60000/60000 [==============================] - 3s 52us/step - loss: 0.3420\n",
      "Epoch 2/100\n",
      "60000/60000 [==============================] - 3s 45us/step - loss: 0.2547\n",
      "Epoch 3/100\n",
      "60000/60000 [==============================] - 3s 46us/step - loss: 0.2281\n",
      "Epoch 4/100\n",
      "60000/60000 [==============================] - 3s 46us/step - loss: 0.2083\n",
      "Epoch 5/100\n",
      "60000/60000 [==============================] - 3s 47us/step - loss: 0.1944\n",
      "Epoch 6/100\n",
      "60000/60000 [==============================] - 3s 48us/step - loss: 0.1841\n",
      "Epoch 7/100\n",
      "60000/60000 [==============================] - 3s 48us/step - loss: 0.1759\n",
      "Epoch 8/100\n",
      "60000/60000 [==============================] - 3s 48us/step - loss: 0.1691\n",
      "Epoch 9/100\n",
      "60000/60000 [==============================] - 3s 48us/step - loss: 0.1632\n",
      "Epoch 10/100\n",
      "60000/60000 [==============================] - 3s 49us/step - loss: 0.1579\n",
      "Epoch 11/100\n",
      "60000/60000 [==============================] - 3s 47us/step - loss: 0.1533\n",
      "Epoch 12/100\n",
      "60000/60000 [==============================] - 4s 59us/step - loss: 0.1490\n",
      "Epoch 13/100\n",
      "60000/60000 [==============================] - 4s 64us/step - loss: 0.1451\n",
      "Epoch 14/100\n",
      "60000/60000 [==============================] - 3s 58us/step - loss: 0.1415\n",
      "Epoch 15/100\n",
      "60000/60000 [==============================] - 3s 57us/step - loss: 0.1381\n",
      "Epoch 16/100\n",
      "60000/60000 [==============================] - 3s 48us/step - loss: 0.1350\n",
      "Epoch 17/100\n",
      "60000/60000 [==============================] - 3s 55us/step - loss: 0.1321\n",
      "Epoch 18/100\n",
      "60000/60000 [==============================] - 3s 49us/step - loss: 0.1294\n",
      "Epoch 19/100\n",
      "60000/60000 [==============================] - 3s 47us/step - loss: 0.1268\n",
      "Epoch 20/100\n",
      "60000/60000 [==============================] - 3s 48us/step - loss: 0.1244\n",
      "Epoch 21/100\n",
      "60000/60000 [==============================] - 4s 60us/step - loss: 0.1220\n",
      "Epoch 22/100\n",
      "60000/60000 [==============================] - 3s 57us/step - loss: 0.1198\n",
      "Epoch 23/100\n",
      "60000/60000 [==============================] - 4s 61us/step - loss: 0.1177\n",
      "Epoch 24/100\n",
      "60000/60000 [==============================] - 3s 47us/step - loss: 0.1158\n",
      "Epoch 25/100\n",
      "60000/60000 [==============================] - 3s 46us/step - loss: 0.1139\n",
      "Epoch 26/100\n",
      "60000/60000 [==============================] - 3s 47us/step - loss: 0.1122\n",
      "Epoch 27/100\n",
      "60000/60000 [==============================] - 3s 47us/step - loss: 0.1105\n",
      "Epoch 28/100\n",
      "60000/60000 [==============================] - 3s 48us/step - loss: 0.1090\n",
      "Epoch 29/100\n",
      "60000/60000 [==============================] - 3s 56us/step - loss: 0.1076\n",
      "Epoch 30/100\n",
      "60000/60000 [==============================] - 3s 53us/step - loss: 0.1063\n",
      "Epoch 31/100\n",
      "60000/60000 [==============================] - 3s 50us/step - loss: 0.1051\n",
      "Epoch 32/100\n",
      "60000/60000 [==============================] - 3s 47us/step - loss: 0.1040\n",
      "Epoch 33/100\n",
      "60000/60000 [==============================] - 3s 48us/step - loss: 0.1029\n",
      "Epoch 34/100\n",
      "60000/60000 [==============================] - 3s 55us/step - loss: 0.1019\n",
      "Epoch 35/100\n",
      "60000/60000 [==============================] - 4s 72us/step - loss: 0.1010\n",
      "Epoch 36/100\n",
      "60000/60000 [==============================] - 4s 62us/step - loss: 0.1001\n",
      "Epoch 37/100\n",
      "60000/60000 [==============================] - 4s 71us/step - loss: 0.0993\n",
      "Epoch 38/100\n",
      "60000/60000 [==============================] - 4s 64us/step - loss: 0.0986\n",
      "Epoch 39/100\n",
      "60000/60000 [==============================] - 4s 59us/step - loss: 0.0979\n",
      "Epoch 40/100\n",
      "60000/60000 [==============================] - 4s 70us/step - loss: 0.0972\n",
      "Epoch 41/100\n",
      "60000/60000 [==============================] - 4s 66us/step - loss: 0.0966\n",
      "Epoch 42/100\n",
      "60000/60000 [==============================] - 4s 66us/step - loss: 0.0960\n",
      "Epoch 43/100\n",
      "60000/60000 [==============================] - 3s 56us/step - loss: 0.0954\n",
      "Epoch 44/100\n",
      "60000/60000 [==============================] - 3s 53us/step - loss: 0.0949\n",
      "Epoch 45/100\n",
      "60000/60000 [==============================] - 4s 62us/step - loss: 0.0944\n",
      "Epoch 46/100\n",
      "60000/60000 [==============================] - 4s 70us/step - loss: 0.0939\n",
      "Epoch 47/100\n",
      "60000/60000 [==============================] - 4s 69us/step - loss: 0.0935\n",
      "Epoch 48/100\n",
      "60000/60000 [==============================] - 3s 57us/step - loss: 0.0930\n",
      "Epoch 49/100\n",
      "60000/60000 [==============================] - 3s 57us/step - loss: 0.0926\n",
      "Epoch 50/100\n",
      "60000/60000 [==============================] - 4s 59us/step - loss: 0.0922\n",
      "Epoch 51/100\n",
      "60000/60000 [==============================] - 3s 47us/step - loss: 0.0918\n",
      "Epoch 52/100\n",
      "60000/60000 [==============================] - 3s 46us/step - loss: 0.0915\n",
      "Epoch 53/100\n",
      "60000/60000 [==============================] - 3s 43us/step - loss: 0.0911\n",
      "Epoch 54/100\n",
      "60000/60000 [==============================] - 3s 52us/step - loss: 0.0908\n",
      "Epoch 55/100\n",
      "60000/60000 [==============================] - 3s 44us/step - loss: 0.0904\n",
      "Epoch 56/100\n",
      "60000/60000 [==============================] - 3s 51us/step - loss: 0.0901\n",
      "Epoch 57/100\n",
      "60000/60000 [==============================] - 3s 44us/step - loss: 0.0898\n",
      "Epoch 58/100\n",
      "60000/60000 [==============================] - 3s 44us/step - loss: 0.0895\n",
      "Epoch 59/100\n",
      "60000/60000 [==============================] - 3s 47us/step - loss: 0.0892\n",
      "Epoch 60/100\n",
      "60000/60000 [==============================] - 3s 44us/step - loss: 0.0890\n",
      "Epoch 61/100\n",
      "60000/60000 [==============================] - 3s 43us/step - loss: 0.0887\n",
      "Epoch 62/100\n",
      "60000/60000 [==============================] - 3s 43us/step - loss: 0.0884\n",
      "Epoch 63/100\n",
      "60000/60000 [==============================] - 3s 43us/step - loss: 0.0882\n",
      "Epoch 64/100\n",
      "60000/60000 [==============================] - 3s 51us/step - loss: 0.0880\n",
      "Epoch 65/100\n",
      "60000/60000 [==============================] - 3s 51us/step - loss: 0.0877\n",
      "Epoch 66/100\n",
      "60000/60000 [==============================] - 3s 44us/step - loss: 0.0875\n",
      "Epoch 67/100\n",
      "60000/60000 [==============================] - 3s 44us/step - loss: 0.0873\n",
      "Epoch 68/100\n",
      "60000/60000 [==============================] - 3s 50us/step - loss: 0.0870\n",
      "Epoch 69/100\n",
      "60000/60000 [==============================] - 3s 46us/step - loss: 0.0868\n",
      "Epoch 70/100\n",
      "60000/60000 [==============================] - 3s 47us/step - loss: 0.0866\n",
      "Epoch 71/100\n",
      "60000/60000 [==============================] - 3s 51us/step - loss: 0.0864\n",
      "Epoch 72/100\n",
      "60000/60000 [==============================] - 3s 50us/step - loss: 0.0862\n",
      "Epoch 73/100\n",
      "60000/60000 [==============================] - 3s 45us/step - loss: 0.0860\n",
      "Epoch 74/100\n",
      "60000/60000 [==============================] - 3s 44us/step - loss: 0.0858\n",
      "Epoch 75/100\n",
      "60000/60000 [==============================] - 3s 45us/step - loss: 0.0856\n",
      "Epoch 76/100\n",
      "60000/60000 [==============================] - 3s 46us/step - loss: 0.0855\n",
      "Epoch 77/100\n",
      "60000/60000 [==============================] - 3s 49us/step - loss: 0.0853\n",
      "Epoch 78/100\n",
      "60000/60000 [==============================] - 3s 44us/step - loss: 0.0851\n",
      "Epoch 79/100\n",
      "60000/60000 [==============================] - 3s 46us/step - loss: 0.0849\n",
      "Epoch 80/100\n",
      "60000/60000 [==============================] - 3s 58us/step - loss: 0.0848\n",
      "Epoch 81/100\n",
      "60000/60000 [==============================] - 3s 51us/step - loss: 0.0846\n",
      "Epoch 82/100\n",
      "60000/60000 [==============================] - 3s 53us/step - loss: 0.0845\n",
      "Epoch 83/100\n",
      "60000/60000 [==============================] - 3s 52us/step - loss: 0.0843\n",
      "Epoch 84/100\n",
      "60000/60000 [==============================] - 3s 53us/step - loss: 0.0842\n",
      "Epoch 85/100\n",
      "60000/60000 [==============================] - 3s 50us/step - loss: 0.0840\n",
      "Epoch 86/100\n",
      "60000/60000 [==============================] - 3s 49us/step - loss: 0.0839\n",
      "Epoch 87/100\n",
      "60000/60000 [==============================] - 3s 47us/step - loss: 0.0837\n",
      "Epoch 88/100\n",
      "60000/60000 [==============================] - 3s 57us/step - loss: 0.0836\n",
      "Epoch 89/100\n",
      "60000/60000 [==============================] - 3s 55us/step - loss: 0.0834\n",
      "Epoch 90/100\n",
      "60000/60000 [==============================] - 4s 63us/step - loss: 0.0833\n",
      "Epoch 91/100\n",
      "60000/60000 [==============================] - 4s 58us/step - loss: 0.0832\n",
      "Epoch 92/100\n",
      "60000/60000 [==============================] - 3s 46us/step - loss: 0.0831\n",
      "Epoch 93/100\n",
      "60000/60000 [==============================] - 3s 51us/step - loss: 0.0829\n",
      "Epoch 94/100\n"
     ]
    },
    {
     "name": "stdout",
     "output_type": "stream",
     "text": [
      "60000/60000 [==============================] - 3s 43us/step - loss: 0.0828\n",
      "Epoch 95/100\n",
      "60000/60000 [==============================] - 3s 44us/step - loss: 0.0827\n",
      "Epoch 96/100\n",
      "60000/60000 [==============================] - 3s 43us/step - loss: 0.0826\n",
      "Epoch 97/100\n",
      "60000/60000 [==============================] - 3s 43us/step - loss: 0.0825\n",
      "Epoch 98/100\n",
      "60000/60000 [==============================] - 3s 43us/step - loss: 0.0823\n",
      "Epoch 99/100\n",
      "60000/60000 [==============================] - 3s 42us/step - loss: 0.0822\n",
      "Epoch 100/100\n",
      "60000/60000 [==============================] - 3s 43us/step - loss: 0.0821\n"
     ]
    },
    {
     "data": {
      "text/plain": [
       "<tensorflow.python.keras.callbacks.History at 0x121b547b8>"
      ]
     },
     "execution_count": 9,
     "metadata": {},
     "output_type": "execute_result"
    }
   ],
   "source": [
    "# number of epochs increased since regularization term added, which prevents overfitting\n",
    "# the loss hs reduced to 0.08 from 0.1\n",
    "autoencoder.fit(x_train, x_train, epochs = 100, batch_size = 256, shuffle = True)"
   ]
  },
  {
   "cell_type": "code",
   "execution_count": 10,
   "metadata": {},
   "outputs": [],
   "source": [
    "encoded_imgs = encoder.predict(x_test)\n",
    "decoded_imgs = decoder.predict(encoded_imgs)"
   ]
  },
  {
   "cell_type": "code",
   "execution_count": 12,
   "metadata": {},
   "outputs": [
    {
     "data": {
      "image/png": "[encoded data removed]",
      "text/plain": [
       "<Figure size 1440x288 with 20 Axes>"
      ]
     },
     "metadata": {},
     "output_type": "display_data"
    }
   ],
   "source": [
    "import matplotlib.pyplot as plt\n",
    "n = 10\n",
    "plt.figure(figsize=(20, 4))\n",
    "for i in range(n):\n",
    "    # input images\n",
    "    ax = plt.subplot(2, n, i+1)\n",
    "    plt.imshow(x_test[i].reshape(28, 28))\n",
    "    plt.gray()\n",
    "    # reconstructed images\n",
    "    ax = plt.subplot(2, n, i+1+n)\n",
    "    plt.imshow(decoded_imgs[i].reshape(28,28))\n",
    "    plt.gray()\n",
    "    \n",
    "plt.show()"
   ]
  },
  {
   "cell_type": "code",
   "execution_count": null,
   "metadata": {},
   "outputs": [],
   "source": []
  }
 ],
 "metadata": {
  "kernelspec": {
   "display_name": "Python 3",
   "language": "python",
   "name": "python3"
  },
  "language_info": {
   "codemirror_mode": {
    "name": "ipython",
    "version": 3
   },
   "file_extension": ".py",
   "mimetype": "text/x-python",
   "name": "python",
   "nbconvert_exporter": "python",
   "pygments_lexer": "ipython3",
   "version": "3.6.5"
  }
 },
 "nbformat": 4,
 "nbformat_minor": 2
}
